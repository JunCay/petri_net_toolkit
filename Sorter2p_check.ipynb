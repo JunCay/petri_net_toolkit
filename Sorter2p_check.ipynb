{
 "cells": [
  {
   "cell_type": "code",
   "execution_count": 1,
   "metadata": {},
   "outputs": [],
   "source": [
    "import petri_net_toolkit as pntk\n",
    "from petri_net_toolkit.nets import *\n",
    "import numpy as np\n",
    "import torch\n",
    "from torch.nn import functional as F\n",
    "from torch.distributions import Categorical\n",
    "import matplotlib.pyplot as plt\n",
    "import collections\n",
    "import random\n",
    "from tqdm import tqdm\n",
    "import rl_utils"
   ]
  },
  {
   "cell_type": "code",
   "execution_count": 2,
   "metadata": {},
   "outputs": [
    {
     "name": "stderr",
     "output_type": "stream",
     "text": [
      "/Users/jason/Documents/SJTU_pro/Projects/DTG/PetriNets/petri_net_toolkit/petri_nets.py:27: FutureWarning: The behavior of DataFrame concatenation with empty or all-NA entries is deprecated. In a future version, this will no longer exclude empty or all-NA columns when determining the result dtypes. To retain the old behavior, exclude the relevant entries before the concat operation.\n",
      "  self.pt_matrix.loc[element.name] = np.zeros(len(self.pt_matrix.columns))\n"
     ]
    },
    {
     "name": "stdout",
     "output_type": "stream",
     "text": [
      "{'p1': {'default': 30, 'default_error': 0}, 'p2': {'default': 1, 'default_error': 0}, 'p3': {'default': 1, 'default_error': 0}, 'p4': {'default': 1, 'default_error': 0}, 'p5': {'default': 0, 'default_error': 0}, 'p6': {'default': 0, 'default_error': 0}, 'p7': {'default': 0, 'default_error': 0}, 'p8': {'default': 0, 'default_error': 0}, 'p10': {'default': 0, 'default_error': 0}, 'p11': {'default': 0, 'default_error': 0}, 'p12': {'default': 0, 'default_error': 0}, 'p13': {'default': 0, 'default_error': 0}, 'p14': {'default': 0, 'default_error': 0}, 'p15': {'default': 0, 'default_error': 0}, 'p16': {'default': 1, 'default_error': 0}, 'p17': {'default': 0, 'default_error': 0}, 'p18': {'default': 1, 'default_error': 0}, 'p19': {'default': 0, 'default_error': 0}, 'p20': {'default': 0, 'default_error': 0}, 'p21': {'default': 1, 'default_error': 0}, 'p22': {'default': 0, 'default_error': 0}, 'p23': {'default': 0, 'default_error': 0}, 'p24': {'default': 0, 'default_error': 0}}\n"
     ]
    }
   ],
   "source": [
    "env = Sorter2p_Colored('Sorter2p_Petri')\n",
    "\n",
    "env.initialize_net()\n",
    "env.reset()\n",
    "env.draw_net('Sorter2p_debugger.png')"
   ]
  },
  {
   "cell_type": "code",
   "execution_count": 3,
   "metadata": {},
   "outputs": [
    {
     "name": "stdout",
     "output_type": "stream",
     "text": [
      "['28', '0', '0', '0', '1', '0', '1', '0', '1', '0', '0', '0', '1', '0', '0', '1', '1', '0', '0', '1', '0', '0', '0', '0', '0', '0', '0', '0', '0', '0', '0', '0', '0', '0', '0', '0', '0', '0', '0', '0', '0', '0', '0', '0', '0', '0']\n"
     ]
    }
   ],
   "source": [
    "tokens = '28  0  0  0  1  0  1  0  1  0  0  0  1  0  0  1  1  0  0  1  0  0  0  0  0  0  0  0  0  0  0  0  0  0  0  0  0  0  0  0  0  0  0  0  0  0'\n",
    "tokens = tokens.split()\n",
    "print(tokens)\n",
    "t=0\n",
    "for i in range(len(env.places)):\n",
    "    if i!=8:\n",
    "        env.places['p'+str(i+1)].token = {'default': int(tokens[t]), 'default_error':0}\n",
    "        # print(env.places['p'+str(i+1)])\n",
    "        t+=1\n",
    "env.places['p24'].token = {'default': int(tokens[-1]), 'default_error':0}\n",
    "env.draw_net('debugger_pics/Sorter2p_debugger2.png')"
   ]
  },
  {
   "cell_type": "code",
   "execution_count": 4,
   "metadata": {},
   "outputs": [
    {
     "name": "stdout",
     "output_type": "stream",
     "text": [
      "False\n",
      "[28  0  0  0  1  0  1  0  1  0  0  0  1  0  0  1  1  0  0  1  0  0  0  0\n",
      "  0  0  0  0  0  0  0  0  0  0  0  0  0  0  0  0  0  0  0  0  0  0]\n"
     ]
    }
   ],
   "source": [
    "print(env.check_alive())\n",
    "print(env.observe())"
   ]
  },
  {
   "cell_type": "code",
   "execution_count": 5,
   "metadata": {},
   "outputs": [
    {
     "name": "stdout",
     "output_type": "stream",
     "text": [
      "{'default': 28, 'default_error': 0}\n",
      "{'default': 0, 'default_error': 0}\n",
      "{'default': 0, 'default_error': 0}\n",
      "{'default': 0, 'default_error': 0}\n",
      "{'default': 1, 'default_error': 0}\n",
      "{'default': 0, 'default_error': 0}\n",
      "{'default': 1, 'default_error': 0}\n",
      "{'default': 0, 'default_error': 0}\n",
      "{'default': 1, 'default_error': 0}\n",
      "{'default': 0, 'default_error': 0}\n",
      "{'default': 0, 'default_error': 0}\n",
      "{'default': 0, 'default_error': 0}\n",
      "{'default': 1, 'default_error': 0}\n",
      "{'default': 0, 'default_error': 0}\n",
      "{'default': 0, 'default_error': 0}\n",
      "{'default': 1, 'default_error': 0}\n",
      "{'default': 1, 'default_error': 0}\n",
      "{'default': 0, 'default_error': 0}\n",
      "{'default': 0, 'default_error': 0}\n",
      "{'default': 1, 'default_error': 0}\n",
      "{'default': 0, 'default_error': 0}\n",
      "{'default': 0, 'default_error': 0}\n"
     ]
    }
   ],
   "source": [
    "for i in range(len(env.places)):\n",
    "    if i!=8:\n",
    "        print(env.places['p'+str(i+1)].token)"
   ]
  },
  {
   "cell_type": "code",
   "execution_count": null,
   "metadata": {},
   "outputs": [],
   "source": []
  },
  {
   "cell_type": "code",
   "execution_count": null,
   "metadata": {},
   "outputs": [],
   "source": []
  }
 ],
 "metadata": {
  "kernelspec": {
   "display_name": "GrindingDT",
   "language": "python",
   "name": "python3"
  },
  "language_info": {
   "codemirror_mode": {
    "name": "ipython",
    "version": 3
   },
   "file_extension": ".py",
   "mimetype": "text/x-python",
   "name": "python",
   "nbconvert_exporter": "python",
   "pygments_lexer": "ipython3",
   "version": "3.10.13"
  }
 },
 "nbformat": 4,
 "nbformat_minor": 2
}
